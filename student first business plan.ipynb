{
 "cells": [
  {
   "cell_type": "markdown",
   "metadata": {},
   "source": [
    "## Final Project Submission\n",
    "\n",
    "Please fill out:\n",
    "* Student name: Jerry Narkiso\n",
    "* Student pace: full time\n",
    "* Scheduled project review date/time: 22 March 2024\n",
    "* Instructor name: Asha Deen\n",
    "* Blog post URL:\n"
   ]
  },
  {
   "cell_type": "markdown",
   "metadata": {},
   "source": [
    "\n",
    "\n",
    "\n",
    "\n"
   ]
  },
  {
   "cell_type": "markdown",
   "metadata": {},
   "source": [
    "# BLOCKBUSTER MOVIE SERVICE PROVIDER"
   ]
  },
  {
   "cell_type": "markdown",
   "metadata": {},
   "source": [
    "\n",
    "1. **Introduction**\n",
    "  "
   ]
  },
  {
   "cell_type": "markdown",
   "metadata": {},
   "source": [
    "The blockbuster movie service provider would aim to revolutionize the way people access and enjoy blockbuster movies. We're entering the market as a comprehensive movie service provider, offering a wide array of the latest and greatest films through an innovative platform that prioritizes user experience and convenience. Our strategy encompasses digital streaming, physical media rentals, and exclusive partnerships to ensure that our customers have unparalleled access to the best cinematic experiences.\n"
   ]
  },
  {
   "cell_type": "markdown",
   "metadata": {},
   "source": [
    "**Business Understanding**"
   ]
  },
  {
   "cell_type": "markdown",
   "metadata": {},
   "source": [
    "Market Analysis:The entertainment industry, particularly the movie sector, has seen significant shifts in recent years. With the rise of streaming platforms, there's been a growing demand for convenient, on-demand access to blockbuster films.\n",
    "    \n",
    "Customer Segmentation: Our target market includes movie enthusiasts of all ages who seek quality content and value convenience. This includes individuals who prefer streaming services, as well as those who still appreciate the experience of physical media.\n",
    "    \n",
    "Competitive Landscape: While there are several established streaming platforms in the market, there's still room for innovation and differentiation. By offering a hybrid model that combines streaming with physical rentals, we aim to carve out a unique position in the market.\n",
    "    \n",
    "Industry Trends: The trend towards digital streaming is undeniable, but there's also a nostalgia-driven resurgence in physical media, particularly among collectors and cinephiles. We intend to leverage these trends to offer a comprehensive solution that caters to diverse preferences."
   ]
  },
  {
   "cell_type": "markdown",
   "metadata": {},
   "source": [
    "1.2. **Mission Statement**"
   ]
  },
  {
   "cell_type": "markdown",
   "metadata": {},
   "source": [
    "Our mission is to provide unparalleled access to blockbuster movies through a seamless and personalized entertainment experience. We're dedicated to delivering quality content, innovative technology, and exceptional service to our customers, enriching their lives through the magic of cinema."
   ]
  },
  {
   "cell_type": "markdown",
   "metadata": {},
   "source": [
    "1.3. **Vision Statement**"
   ]
  },
  {
   "cell_type": "markdown",
   "metadata": {},
   "source": [
    "Our vision is to become the premier destination for movie lovers everywhere, recognized for our diverse selection, user-friendly platform, and commitment to innovation. We aspire to be the go-to source for blockbuster entertainment, setting new standards for excellence in the industry."
   ]
  },
  {
   "cell_type": "markdown",
   "metadata": {},
   "source": [
    "1.4. **Key Objectives**"
   ]
  },
  {
   "cell_type": "markdown",
   "metadata": {},
   "source": [
    "  - Build a comprehensive library of blockbuster movies, spanning various genres and decades.\n",
    "  - Develop a user-friendly platform that offers seamless streaming and rental experiences\n",
    "  - Forge strategic partnerships with studios, distributors, and content creators to secure exclusive titles and deals.\n",
    " - Implement robust marketing and promotional campaigns to raise awareness and attract customers. \n",
    " \n",
    " - Continuously innovate and evolve our services to stay ahead of industry trends and customer preferences."
   ]
  },
  {
   "cell_type": "markdown",
   "metadata": {},
   "source": [
    "2 **Data Analysis**"
   ]
  },
  {
   "cell_type": "markdown",
   "metadata": {},
   "source": [
    "2.1 **Importing libraries**"
   ]
  },
  {
   "cell_type": "code",
   "execution_count": 4,
   "metadata": {},
   "outputs": [],
   "source": [
    "import pandas as pd\n",
    "import numpy as np\n",
    "import seaborn as sns\n",
    "import csv\n",
    "import os\n",
    "import sqlite3\n",
    "import matplotlib.pyplot as plt\n",
    "%matplotlib inline"
   ]
  },
  {
   "cell_type": "markdown",
   "metadata": {},
   "source": [
    "2.2 **Number of tables in the dataset**"
   ]
  },
  {
   "cell_type": "code",
   "execution_count": 9,
   "metadata": {},
   "outputs": [
    {
     "name": "stdout",
     "output_type": "stream",
     "text": [
      "Total tables in the BoM Movie dataset: 5\n",
      "\n",
      "Table Names:\n",
      "1. title\n",
      "2. studio\n",
      "3. domestic_gross\n",
      "4. foreign_gross\n",
      "5. year\n"
     ]
    }
   ],
   "source": [
    "import pandas as pd\n",
    "\n",
    "def show_tables_summary(csv_file):\n",
    "    # Read the CSV file into a DataFrame\n",
    "    df = pd.read_csv(csv_file)\n",
    "    \n",
    "    # Extract table names\n",
    "    table_names = df.columns\n",
    "    \n",
    "    # Display total number of tables\n",
    "    total_tables = len(table_names)\n",
    "    print(f\"Total tables in the BoM Movie dataset: {total_tables}\")\n",
    "    \n",
    "    # Display table names\n",
    "    print(\"\\nTable Names:\")\n",
    "    for i, table_name in enumerate(table_names, 1):\n",
    "        print(f\"{i}. {table_name}\")\n",
    "\n",
    "# Example usage\n",
    "csv_file = \"bom.movie_gross.csv\" \n",
    "show_tables_summary(csv_file)\n"
   ]
  },
  {
   "cell_type": "markdown",
   "metadata": {},
   "source": [
    "2.3 **Total Movie Titles in the dataset**"
   ]
  },
  {
   "cell_type": "code",
   "execution_count": 16,
   "metadata": {},
   "outputs": [
    {
     "name": "stdout",
     "output_type": "stream",
     "text": [
      "Total number of movie titles in the dataset: 3386\n"
     ]
    }
   ],
   "source": [
    "\n",
    "\n",
    "def total_movie_titles(csv_file):\n",
    "    # Read the CSV file into a DataFrame\n",
    "    df = pd.read_csv(csv_file)\n",
    "    \n",
    "    # Find the column containing movie titles\n",
    "    title_columns = [col for col in df.columns if 'title' in col.lower()]\n",
    "    \n",
    "    if not title_columns:\n",
    "        raise ValueError(\"No column containing movie titles found.\")\n",
    "    \n",
    "    # Assuming the first title column found contains the movie titles\n",
    "    title_column = title_columns[0]\n",
    "    \n",
    "    # Count unique movie titles in the selected column\n",
    "    total_titles = len(df[title_column].unique())\n",
    "    \n",
    "    return total_titles\n",
    "\n",
    "csv_file = \"bom.movie_gross.csv\"  \n",
    "total_titles = total_movie_titles(csv_file)\n",
    "print(f\"Total number of movie titles in the dataset: {total_titles}\")"
   ]
  },
  {
   "cell_type": "markdown",
   "metadata": {},
   "source": [
    "2.4 **Movies with the highest domestic grosss** "
   ]
  },
  {
   "cell_type": "code",
   "execution_count": 17,
   "metadata": {},
   "outputs": [
    {
     "name": "stdout",
     "output_type": "stream",
     "text": [
      "Top Movies with Highest Domestic Gross:\n",
      "                             title  domestic_gross\n",
      "1872  Star Wars: The Force Awakens     936700000.0\n",
      "3080                 Black Panther     700100000.0\n",
      "3079        Avengers: Infinity War     678800000.0\n",
      "1873                Jurassic World     652300000.0\n",
      "727          Marvel's The Avengers     623400000.0\n",
      "2758      Star Wars: The Last Jedi     620200000.0\n",
      "3082                 Incredibles 2     608600000.0\n",
      "2323  Rogue One: A Star Wars Story     532200000.0\n",
      "2759   Beauty and the Beast (2017)     504000000.0\n",
      "2324                  Finding Dory     486300000.0\n"
     ]
    }
   ],
   "source": [
    "\n",
    "\n",
    "def movies_highest_domestic_gross(csv_file, top_n=10):\n",
    "    # Read the CSV file into a DataFrame\n",
    "    df = pd.read_csv(csv_file)\n",
    "    \n",
    "    # Sort the DataFrame by 'domestic_gross' column in descending order\n",
    "    sorted_df = df.sort_values(by='domestic_gross', ascending=False)\n",
    "    \n",
    "    # Display the top movies with highest domestic gross\n",
    "    top_movies = sorted_df.head(top_n)\n",
    "    \n",
    "    return top_movies\n",
    "\n",
    "# Example usage\n",
    "csv_file = \"bom.movie_gross.csv\"  # Replace with the path to your CSV file\n",
    "top_movies = movies_highest_domestic_gross(csv_file)\n",
    "\n",
    "# Display the top movies\n",
    "print(\"Top Movies with Highest Domestic Gross:\")\n",
    "print(top_movies[['title', 'domestic_gross']])\n"
   ]
  },
  {
   "cell_type": "markdown",
   "metadata": {},
   "source": [
    "2.5 **Movies with the highest foreign gross**"
   ]
  },
  {
   "cell_type": "code",
   "execution_count": 19,
   "metadata": {},
   "outputs": [
    {
     "name": "stdout",
     "output_type": "stream",
     "text": [
      "Top Movies with Highest Foreign Gross:\n",
      "                                           title foreign_gross\n",
      "1805                             Life's a Breeze         99700\n",
      "1331                                    The East         99700\n",
      "302                                   White Lion         99600\n",
      "2906                            A United Kingdom       9900000\n",
      "510                                     Le Havre       9900000\n",
      "1546                          Heaven is for Real       9900000\n",
      "155   Sea Rex 3D: Journey to a Prehistoric World       9900000\n",
      "3225                                The Bookshop       9900000\n",
      "1291                           Only God Forgives       9900000\n",
      "3181                           Holmes and Watson       9900000\n"
     ]
    }
   ],
   "source": [
    "def movies_highest_foreign_gross(csv_file, top_n=10):\n",
    "    # Read the CSV file into a DataFrame\n",
    "    df = pd.read_csv(csv_file)\n",
    "    \n",
    "    # Sort the DataFrame by 'foreign_gross' column in descending order\n",
    "    sorted_df = df.sort_values(by='foreign_gross', ascending=False)\n",
    "    \n",
    "    # Display the top movies with highest foreign gross\n",
    "    top_movies = sorted_df.head(top_n)\n",
    "    \n",
    "    return top_movies\n",
    "\n",
    "# Example usage\n",
    "csv_file = \"bom.movie_gross.csv\"  # Replace with the path to your CSV file\n",
    "top_foreign_movies = movies_highest_foreign_gross(csv_file)\n",
    "\n",
    "# Display the top movies\n",
    "print(\"Top Movies with Highest Foreign Gross:\")\n",
    "print(top_foreign_movies[['title', 'foreign_gross']])"
   ]
  },
  {
   "cell_type": "markdown",
   "metadata": {},
   "source": [
    "2.6 **Most Common Studio in the dataset**"
   ]
  },
  {
   "cell_type": "code",
   "execution_count": 20,
   "metadata": {},
   "outputs": [
    {
     "name": "stdout",
     "output_type": "stream",
     "text": [
      "The most common studio is 'IFC' with a count of 166 movies.\n"
     ]
    }
   ],
   "source": [
    "def most_common_studio(csv_file):\n",
    "    # Read the CSV file into a DataFrame\n",
    "    df = pd.read_csv(csv_file)\n",
    "    \n",
    "    # Count occurrences of each studio\n",
    "    studio_counts = df['studio'].value_counts()\n",
    "    \n",
    "    # Select the studio with the highest count\n",
    "    most_common_studio = studio_counts.idxmax()\n",
    "    count = studio_counts.max()\n",
    "    \n",
    "    return most_common_studio, count\n",
    "\n",
    "# Example usage\n",
    "csv_file = \"bom.movie_gross.csv\"  # Replace with the path to your CSV file\n",
    "most_common, count = most_common_studio(csv_file)\n",
    "\n",
    "# Display the most common studio\n",
    "print(f\"The most common studio is '{most_common}' with a count of {count} movies.\")"
   ]
  },
  {
   "cell_type": "markdown",
   "metadata": {},
   "source": [
    "3 **Summary**"
   ]
  },
  {
   "cell_type": "markdown",
   "metadata": {},
   "source": [
    "The data obtained from the queries above can be instrumental in various aspects of the blockbuster movie service provider business:"
   ]
  },
  {
   "cell_type": "markdown",
   "metadata": {},
   "source": [
    "Content Acquisition and Licensing: Knowing which movies have the highest domestic and foreign gross can guide your decisions when acquiring content licenses. Prioritizing movies with proven commercial success increases the likelihood of attracting viewers to your platform and generating revenue through subscriptions or rentals.\n",
    "\n",
    "Content Curation: Understanding the most common studios can help you curate a diverse and appealing catalog of movies. By focusing on studios that consistently produce popular films, you can ensure a steady stream of high-quality content that resonates with your target audience.\n",
    "\n",
    "User Engagement and Retention: Featuring top-performing movies prominently on your platform can enhance user engagement and retention. Users are more likely to spend time on your platform and return for future viewing sessions if they can access popular and highly-rated movies easily.\n",
    "\n",
    "Personalized Recommendations: Analyzing data on movie performance and studio popularity allows you to develop algorithms for personalized movie recommendations. By understanding users' preferences based on their interactions with content, you can offer tailored recommendations that improve user satisfaction and drive engagement.\n",
    "\n",
    "Marketing and Promotion: Leveraging data on popular movies and studios in your marketing campaigns can help attract new users to your platform. Highlighting blockbuster hits and exclusive partnerships with top studios can differentiate your service from competitors and entice potential subscribers.\n",
    "\n",
    "Business Strategy and Partnerships: Insights into movie performance and studio preferences can inform your overall business strategy and partnerships. For example, you may choose to invest resources in securing exclusive deals with popular studios or prioritize marketing efforts around upcoming blockbuster releases.\n",
    "\n",
    "Platform Development: Understanding user preferences and content consumption patterns can inform the development of new features and functionalities for your platform. For instance, you may introduce curated collections based on popular movie genres or implement advanced search capabilities to enhance the user experience."
   ]
  },
  {
   "cell_type": "code",
   "execution_count": null,
   "metadata": {},
   "outputs": [],
   "source": []
  }
 ],
 "metadata": {
  "kernelspec": {
   "display_name": "Python 3 (ipykernel)",
   "language": "python",
   "name": "python3"
  },
  "language_info": {
   "codemirror_mode": {
    "name": "ipython",
    "version": 3
   },
   "file_extension": ".py",
   "mimetype": "text/x-python",
   "name": "python",
   "nbconvert_exporter": "python",
   "pygments_lexer": "ipython3",
   "version": "3.11.5"
  }
 },
 "nbformat": 4,
 "nbformat_minor": 2
}
