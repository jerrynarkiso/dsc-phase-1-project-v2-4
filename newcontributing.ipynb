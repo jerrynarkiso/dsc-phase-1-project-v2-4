{
 "cells": [
  {
   "cell_type": "markdown",
   "metadata": {},
   "source": [
    "# Contributing to Learn.co Curriculum\n",
    "\n",
    "We're really exited that you're about to contribute to the [open curriculum](https://learn.co/content-license) on [Learn.co](https://learn.co). If this is your first time contributing, please continue reading to learn how to make the most meaningful and useful impact possible.\n",
    "\n",
    "## Raising an Issue to Encourage a Contribution\n",
    "\n",
    "If you notice a problem with the curriculum that you believe needs improvement\n",
    "but you're unable to make the change yourself, you should raise a Github issue\n",
    "containing a clear description of the problem. Include relevant snippets of\n",
    "the content and/or screenshots if applicable. Curriculum owners regularly review\n",
    "issue lists and your issue will be prioritized and addressed as appropriate.\n",
    "\n",
    "## Submitting a Pull Request to Suggest an Improvement\n",
    "\n",
    "If you see an opportunity for improvement and can make the change yourself go\n",
    "ahead and use a typical git workflow to make it happen:\n",
    "\n",
    "* Fork this curriculum repository\n",
    "* Make the change on your fork, with descriptive commits in the standard format\n",
    "* Open a Pull Request against this repo\n",
    "\n",
    "A curriculum owner will review your change and approve or comment on it in due\n",
    "course.\n",
    "\n",
    "# Why Contribute?\n",
    "\n",
    "Curriculum on Learn is publicly and freely available under Learn's\n",
    "[Educational Content License](https://learn.co/content-license). By\n",
    "embracing an open-source contribution model, our goal is for the curriculum\n",
    "on Learn to become, in time, the best educational content the world has\n",
    "ever seen.\n",
    "\n",
    "We need help from the community of Learners to maintain and improve the\n",
    "educational content. Everything from fixing typos, to correcting\n",
    "out-dated information, to improving exposition, to adding better examples,\n",
    "to fixing tests—all contributions to making the curriculum more effective are\n",
    "welcome.\n"
   ]
  }
 ],
 "metadata": {
  "kernelspec": {
   "display_name": "base",
   "language": "python",
   "name": "python3"
  },
  "language_info": {
   "name": "python",
   "version": "3.11.5"
  }
 },
 "nbformat": 4,
 "nbformat_minor": 2
}
