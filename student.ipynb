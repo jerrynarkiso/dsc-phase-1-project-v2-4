{
 "cells": [
  {
   "cell_type": "markdown",
   "metadata": {},
   "source": [
    "## Final Project Submission\n",
    "\n",
    "Please fill out:\n",
    "* Student name: Jerry Narkiso\n",
    "* Student pace: full time\n",
    "* Scheduled project review date/time: 22 March 2024\n",
    "* Instructor name: Asha Deen\n",
    "* Blog post URL: https://github.com/jerrynarkiso/dsc-phase-1-project-v2-4\n"
   ]
  },
  {
   "cell_type": "markdown",
   "metadata": {},
   "source": [
    "# BLOCKBUSTER MOVIE SERVICE PROVIDER"
   ]
  },
  {
   "cell_type": "markdown",
   "metadata": {},
   "source": [
    "\n",
    "1. **Introduction**\n",
    "  "
   ]
  },
  {
   "cell_type": "markdown",
   "metadata": {},
   "source": [
    "The blockbuster movie service provider would aim to revolutionize the way people access and enjoy blockbuster movies. We're entering the market as a comprehensive movie service provider, offering a wide array of the latest and greatest films through an innovative platform that prioritizes user experience and convenience. Our strategy encompasses digital streaming, physical media rentals, and exclusive partnerships to ensure that our customers have unparalleled access to the best cinematic experiences.\n"
   ]
  },
  {
   "cell_type": "markdown",
   "metadata": {},
   "source": [
    "**Business Understanding**"
   ]
  },
  {
   "cell_type": "markdown",
   "metadata": {},
   "source": [
    "Market Analysis:The entertainment industry, particularly the movie sector, has seen significant shifts in recent years. With the rise of streaming platforms, there's been a growing demand for convenient, on-demand access to blockbuster films.\n",
    "    \n",
    "Customer Segmentation: Our target market includes movie enthusiasts of all ages who seek quality content and value convenience. This includes individuals who prefer streaming services, as well as those who still appreciate the experience of physical media.\n",
    "    \n",
    "Competitive Landscape: While there are several established streaming platforms in the market, there's still room for innovation and differentiation. By offering a hybrid model that combines streaming with physical rentals, we aim to carve out a unique position in the market.\n",
    "    \n",
    "Industry Trends: The trend towards digital streaming is undeniable, but there's also a nostalgia-driven resurgence in physical media, particularly among collectors and cinephiles. We intend to leverage these trends to offer a comprehensive solution that caters to diverse preferences."
   ]
  },
  {
   "cell_type": "markdown",
   "metadata": {},
   "source": [
    "1.2. **Mission Statement**"
   ]
  },
  {
   "cell_type": "markdown",
   "metadata": {},
   "source": [
    "Our mission is to provide unparalleled access to blockbuster movies through a seamless and personalized entertainment experience. We're dedicated to delivering quality content, innovative technology, and exceptional service to our customers, enriching their lives through the magic of cinema."
   ]
  },
  {
   "cell_type": "markdown",
   "metadata": {},
   "source": [
    "1.3. **Vision Statement**"
   ]
  },
  {
   "cell_type": "markdown",
   "metadata": {},
   "source": [
    "Our vision is to become the premier destination for movie lovers everywhere, recognized for our diverse selection, user-friendly platform, and commitment to innovation. We aspire to be the go-to source for blockbuster entertainment, setting new standards for excellence in the industry."
   ]
  },
  {
   "cell_type": "markdown",
   "metadata": {},
   "source": [
    "1.4. **Key Objectives**"
   ]
  },
  {
   "cell_type": "markdown",
   "metadata": {},
   "source": [
    "  - Build a comprehensive library of blockbuster movies, spanning various genres and decades.\n",
    "  - Develop a user-friendly platform that offers seamless streaming and rental experiences\n",
    "  - Forge strategic partnerships with studios, distributors, and content creators to secure exclusive titles and deals.\n",
    " - Implement robust marketing and promotional campaigns to raise awareness and attract customers. \n",
    " \n",
    " - Continuously innovate and evolve our services to stay ahead of industry trends and customer preferences."
   ]
  },
  {
   "cell_type": "markdown",
   "metadata": {},
   "source": [
    "2 **Data Analysis**"
   ]
  },
  {
   "cell_type": "markdown",
   "metadata": {},
   "source": [
    "2.1 **Importing libraries**"
   ]
  },
  {
   "cell_type": "code",
   "execution_count": 4,
   "metadata": {},
   "outputs": [],
   "source": [
    "import pandas as pd\n",
    "import numpy as np\n",
    "import seaborn as sns\n",
    "import csv\n",
    "import os\n",
    "import sqlite3\n",
    "import matplotlib.pyplot as plt\n",
    "%matplotlib inline"
   ]
  },
  {
   "cell_type": "markdown",
   "metadata": {},
   "source": [
    "2.2 **Number of tables in the dataset**"
   ]
  },
  {
   "cell_type": "code",
   "execution_count": 9,
   "metadata": {},
   "outputs": [
    {
     "name": "stdout",
     "output_type": "stream",
     "text": [
      "Total tables in the BoM Movie dataset: 5\n",
      "\n",
      "Table Names:\n",
      "1. title\n",
      "2. studio\n",
      "3. domestic_gross\n",
      "4. foreign_gross\n",
      "5. year\n"
     ]
    }
   ],
   "source": [
    "import pandas as pd\n",
    "\n",
    "def show_tables_summary(csv_file):\n",
    "    # Read the CSV file into a DataFrame\n",
    "    df = pd.read_csv(csv_file)\n",
    "    \n",
    "    # Extract table names\n",
    "    table_names = df.columns\n",
    "    \n",
    "    # Display total number of tables\n",
    "    total_tables = len(table_names)\n",
    "    print(f\"Total tables in the BoM Movie dataset: {total_tables}\")\n",
    "    \n",
    "    # Display table names\n",
    "    print(\"\\nTable Names:\")\n",
    "    for i, table_name in enumerate(table_names, 1):\n",
    "        print(f\"{i}. {table_name}\")\n",
    "\n",
    "# Example usage\n",
    "csv_file = \"bom.movie_gross.csv\" \n",
    "show_tables_summary(csv_file)\n"
   ]
  },
  {
   "cell_type": "markdown",
   "metadata": {},
   "source": [
    "2.3 **Total Movie Titles in the dataset**"
   ]
  },
  {
   "cell_type": "code",
   "execution_count": 16,
   "metadata": {},
   "outputs": [
    {
     "name": "stdout",
     "output_type": "stream",
     "text": [
      "Total number of movie titles in the dataset: 3386\n"
     ]
    }
   ],
   "source": [
    "\n",
    "\n",
    "def total_movie_titles(csv_file):\n",
    "    # Read the CSV file into a DataFrame\n",
    "    df = pd.read_csv(csv_file)\n",
    "    \n",
    "    # Find the column containing movie titles\n",
    "    title_columns = [col for col in df.columns if 'title' in col.lower()]\n",
    "    \n",
    "    if not title_columns:\n",
    "        raise ValueError(\"No column containing movie titles found.\")\n",
    "    \n",
    "    # Assuming the first title column found contains the movie titles\n",
    "    title_column = title_columns[0]\n",
    "    \n",
    "    # Count unique movie titles in the selected column\n",
    "    total_titles = len(df[title_column].unique())\n",
    "    \n",
    "    return total_titles\n",
    "\n",
    "csv_file = \"bom.movie_gross.csv\"  \n",
    "total_titles = total_movie_titles(csv_file)\n",
    "print(f\"Total number of movie titles in the dataset: {total_titles}\")"
   ]
  },
  {
   "cell_type": "markdown",
   "metadata": {},
   "source": [
    "2.4 **Movies with the highest domestic grosss** "
   ]
  },
  {
   "cell_type": "code",
   "execution_count": 17,
   "metadata": {},
   "outputs": [
    {
     "name": "stdout",
     "output_type": "stream",
     "text": [
      "Top Movies with Highest Domestic Gross:\n",
      "                             title  domestic_gross\n",
      "1872  Star Wars: The Force Awakens     936700000.0\n",
      "3080                 Black Panther     700100000.0\n",
      "3079        Avengers: Infinity War     678800000.0\n",
      "1873                Jurassic World     652300000.0\n",
      "727          Marvel's The Avengers     623400000.0\n",
      "2758      Star Wars: The Last Jedi     620200000.0\n",
      "3082                 Incredibles 2     608600000.0\n",
      "2323  Rogue One: A Star Wars Story     532200000.0\n",
      "2759   Beauty and the Beast (2017)     504000000.0\n",
      "2324                  Finding Dory     486300000.0\n"
     ]
    }
   ],
   "source": [
    "\n",
    "\n",
    "def movies_highest_domestic_gross(csv_file, top_n=10):\n",
    "    # Read the CSV file into a DataFrame\n",
    "    df = pd.read_csv(csv_file)\n",
    "    \n",
    "    # Sort the DataFrame by 'domestic_gross' column in descending order\n",
    "    sorted_df = df.sort_values(by='domestic_gross', ascending=False)\n",
    "    \n",
    "    # Display the top movies with highest domestic gross\n",
    "    top_movies = sorted_df.head(top_n)\n",
    "    \n",
    "    return top_movies\n",
    "\n",
    "# Example usage\n",
    "csv_file = \"bom.movie_gross.csv\"  # Replace with the path to your CSV file\n",
    "top_movies = movies_highest_domestic_gross(csv_file)\n",
    "\n",
    "# Display the top movies\n",
    "print(\"Top Movies with Highest Domestic Gross:\")\n",
    "print(top_movies[['title', 'domestic_gross']])\n"
   ]
  },
  {
   "cell_type": "markdown",
   "metadata": {},
   "source": [
    "2.5 **Movies with the highest foreign gross**"
   ]
  },
  {
   "cell_type": "code",
   "execution_count": 19,
   "metadata": {},
   "outputs": [
    {
     "name": "stdout",
     "output_type": "stream",
     "text": [
      "Top Movies with Highest Foreign Gross:\n",
      "                                           title foreign_gross\n",
      "1805                             Life's a Breeze         99700\n",
      "1331                                    The East         99700\n",
      "302                                   White Lion         99600\n",
      "2906                            A United Kingdom       9900000\n",
      "510                                     Le Havre       9900000\n",
      "1546                          Heaven is for Real       9900000\n",
      "155   Sea Rex 3D: Journey to a Prehistoric World       9900000\n",
      "3225                                The Bookshop       9900000\n",
      "1291                           Only God Forgives       9900000\n",
      "3181                           Holmes and Watson       9900000\n"
     ]
    }
   ],
   "source": [
    "def movies_highest_foreign_gross(csv_file, top_n=10):\n",
    "    # Read the CSV file into a DataFrame\n",
    "    df = pd.read_csv(csv_file)\n",
    "    \n",
    "    # Sort the DataFrame by 'foreign_gross' column in descending order\n",
    "    sorted_df = df.sort_values(by='foreign_gross', ascending=False)\n",
    "    \n",
    "    # Display the top movies with highest foreign gross\n",
    "    top_movies = sorted_df.head(top_n)\n",
    "    \n",
    "    return top_movies\n",
    "\n",
    "# Example usage\n",
    "csv_file = \"bom.movie_gross.csv\"  # Replace with the path to your CSV file\n",
    "top_foreign_movies = movies_highest_foreign_gross(csv_file)\n",
    "\n",
    "# Display the top movies\n",
    "print(\"Top Movies with Highest Foreign Gross:\")\n",
    "print(top_foreign_movies[['title', 'foreign_gross']])"
   ]
  },
  {
   "cell_type": "markdown",
   "metadata": {},
   "source": [
    "2.6 **Most Common Studio in the dataset**"
   ]
  },
  {
   "cell_type": "code",
   "execution_count": 20,
   "metadata": {},
   "outputs": [
    {
     "name": "stdout",
     "output_type": "stream",
     "text": [
      "The most common studio is 'IFC' with a count of 166 movies.\n"
     ]
    }
   ],
   "source": [
    "def most_common_studio(csv_file):\n",
    "    # Read the CSV file into a DataFrame\n",
    "    df = pd.read_csv(csv_file)\n",
    "    \n",
    "    # Count occurrences of each studio\n",
    "    studio_counts = df['studio'].value_counts()\n",
    "    \n",
    "    # Select the studio with the highest count\n",
    "    most_common_studio = studio_counts.idxmax()\n",
    "    count = studio_counts.max()\n",
    "    \n",
    "    return most_common_studio, count\n",
    "\n",
    "# Example usage\n",
    "csv_file = \"bom.movie_gross.csv\"  # Replace with the path to your CSV file\n",
    "most_common, count = most_common_studio(csv_file)\n",
    "\n",
    "# Display the most common studio\n",
    "print(f\"The most common studio is '{most_common}' with a count of {count} movies.\")"
   ]
  },
  {
   "cell_type": "markdown",
   "metadata": {},
   "source": [
    "3 **Summary**"
   ]
  },
  {
   "cell_type": "markdown",
   "metadata": {},
   "source": [
    "The data obtained from the queries above can be instrumental in various aspects of the blockbuster movie service provider business:"
   ]
  },
  {
   "cell_type": "markdown",
   "metadata": {},
   "source": [
    "Content Acquisition and Licensing: Knowing which movies have the highest domestic and foreign gross can guide your decisions when acquiring content licenses. Prioritizing movies with proven commercial success increases the likelihood of attracting viewers to your platform and generating revenue through subscriptions or rentals.\n",
    "\n",
    "Content Curation: Understanding the most common studios can help you curate a diverse and appealing catalog of movies. By focusing on studios that consistently produce popular films, you can ensure a steady stream of high-quality content that resonates with your target audience.\n",
    "\n",
    "User Engagement and Retention: Featuring top-performing movies prominently on your platform can enhance user engagement and retention. Users are more likely to spend time on your platform and return for future viewing sessions if they can access popular and highly-rated movies easily.\n",
    "\n",
    "Personalized Recommendations: Analyzing data on movie performance and studio popularity allows you to develop algorithms for personalized movie recommendations. By understanding users' preferences based on their interactions with content, you can offer tailored recommendations that improve user satisfaction and drive engagement.\n",
    "\n",
    "Marketing and Promotion: Leveraging data on popular movies and studios in your marketing campaigns can help attract new users to your platform. Highlighting blockbuster hits and exclusive partnerships with top studios can differentiate your service from competitors and entice potential subscribers.\n",
    "\n",
    "Business Strategy and Partnerships: Insights into movie performance and studio preferences can inform your overall business strategy and partnerships. For example, you may choose to invest resources in securing exclusive deals with popular studios or prioritize marketing efforts around upcoming blockbuster releases.\n",
    "\n",
    "Platform Development: Understanding user preferences and content consumption patterns can inform the development of new features and functionalities for your platform. For instance, you may introduce curated collections based on popular movie genres or implement advanced search capabilities to enhance the user experience."
   ]
  },
  {
   "cell_type": "markdown",
   "metadata": {},
   "source": [
    "##  MOVIE THEATER ESTABLISHMENT WHICH SCREENS BASED ON POPULARITY"
   ]
  },
  {
   "cell_type": "markdown",
   "metadata": {},
   "source": [
    "\n",
    "1. **Introduction**\n",
    "  "
   ]
  },
  {
   "cell_type": "markdown",
   "metadata": {},
   "source": [
    "The business is centered around the concept of curating our movie screenings based on the current popularity and buzz surrounding each film. Unlike traditional theaters that follow rigid schedules or programming calendars, we will continuously adapt our movie lineup to reflect the ever-changing tastes and preferences of our audience."
   ]
  },
  {
   "cell_type": "markdown",
   "metadata": {},
   "source": [
    "1.2) **Mission Statement**"
   ]
  },
  {
   "cell_type": "markdown",
   "metadata": {},
   "source": [
    "The mission at the movie theater is to create a dynamic and immersive moviegoing experience that transcends traditional cinema. We are dedicated to curating a selection of films based on current popularity, ensuring that our audience enjoys the latest and most buzz-worthy movies in a vibrant and communal atmosphere. By fostering a sense of excitement, connection, and discovery, we aim to ignite passion for cinema and create lasting memories for our patrons. Through innovation, exceptional service, and a commitment to excellence, we strive to be the ultimate destination for unparalleled cinematic entertainment."
   ]
  },
  {
   "cell_type": "markdown",
   "metadata": {},
   "source": [
    "1.3) **Vision**"
   ]
  },
  {
   "cell_type": "markdown",
   "metadata": {},
   "source": [
    "Our vision is to redefine the movie theater industry by pioneering a new standard of popularity-driven screenings that cater to the dynamic tastes and preferences of our audience. We aspire to create a vibrant and inclusive space where movie enthusiasts can come together to discover, celebrate, and share their love for cinema. By staying at the forefront of industry trends and embracing innovation, we aim to set new benchmarks for excellence and inspire the future of cinematic entertainment."
   ]
  },
  {
   "cell_type": "markdown",
   "metadata": {},
   "source": [
    "1.4) **Key Objectives**"
   ]
  },
  {
   "cell_type": "markdown",
   "metadata": {},
   "source": [
    "\n",
    "1. **Curate Popular Movie Selection:** Continuously monitor and adapt our movie lineup to showcase the latest and most buzz-worthy films, ensuring that our offerings align with current trends and audience interests.\n",
    "\n",
    "2. **Enhance Customer Experience:** Create a welcoming and immersive environment that enhances the moviegoing experience for our patrons through comfortable seating, state-of-the-art technology, and exceptional customer service.\n",
    "\n",
    "3. **Drive Audience Engagement:** Implement marketing strategies to promote our popularity-driven screenings, build anticipation around upcoming releases, and encourage active participation and interaction with our brand both online and offline.\n",
    "\n",
    "4. **Optimize Revenue Streams:** Maximize revenue opportunities by effectively managing ticket sales, concession stand offerings, and potential partnerships with movie studios and distributors. Explore additional revenue streams such as special events, private screenings, and premium experiences.\n",
    "\n",
    "5. **Foster Community Engagement:** Cultivate a sense of community among movie enthusiasts by hosting events, screenings, and discussions that encourage interaction, collaboration, and shared experiences among our audience.\n",
    "\n",
    "6. **Stay Ahead of Industry Trends:** Stay informed and adapt to emerging industry trends, technological advancements, and changing consumer preferences to remain competitive and innovative in the evolving entertainment landscape.\n",
    "\n",
    "7. **Ensure Operational Efficiency:** Streamline operational processes, optimize resource allocation, and maintain high standards of quality and cleanliness to deliver a seamless and enjoyable moviegoing experience for our patrons.\n",
    "\n",
    "8. **Build Brand Reputation:** Establish [Business Name] as a trusted and respected brand known for its commitment to excellence, innovation, and customer satisfaction. Cultivate positive word-of-mouth, reviews, and testimonials to strengthen our brand reputation and credibility in the market.\n",
    "\n",
    "9. **Sustain Growth and Expansion:** Evaluate opportunities for growth and expansion into new markets or additional locations, while maintaining a focus on sustainability, profitability, and long-term success.\n",
    "\n",
    "10. **Promote Diversity and Inclusion:** Embrace diversity and inclusion in all aspects of our business operations, from our movie selection to our staff hiring and customer engagement initiatives, ensuring that everyone feels welcome and represented in our cinema community."
   ]
  },
  {
   "cell_type": "markdown",
   "metadata": {},
   "source": [
    "1.5) **Target Audience**"
   ]
  },
  {
   "cell_type": "markdown",
   "metadata": {},
   "source": [
    "The target audience includes movie enthusiasts of all ages who crave a vibrant and dynamic moviegoing experience. Whether they're avid fans of mainstream blockbusters or indie darlings, our theater will cater to a diverse range of tastes and preferences. We also aim to attract families, couples, and groups looking for a fun and memorable outing.\n",
    "\n"
   ]
  },
  {
   "cell_type": "markdown",
   "metadata": {},
   "source": [
    "1.6) **Revenue Model**"
   ]
  },
  {
   "cell_type": "markdown",
   "metadata": {},
   "source": [
    "The revenue will primarily come from ticket sales, concession stand purchases, and potential partnerships with movie studios and distributors. Additionally, we may explore opportunities for special events, private screenings, and premium experiences to enhance our revenue streams and drive profitability."
   ]
  },
  {
   "cell_type": "markdown",
   "metadata": {},
   "source": [
    "## 2) Data Analysis"
   ]
  },
  {
   "cell_type": "markdown",
   "metadata": {},
   "source": [
    "2.1) **Importing libraries**"
   ]
  },
  {
   "cell_type": "code",
   "execution_count": 1,
   "metadata": {},
   "outputs": [],
   "source": [
    "import pandas as pd\n",
    "import numpy as np\n",
    "import seaborn as sns\n",
    "import csv\n",
    "import os\n",
    "import sqlite3\n",
    "import matplotlib.pyplot as plt\n",
    "%matplotlib inline"
   ]
  },
  {
   "cell_type": "markdown",
   "metadata": {},
   "source": [
    "2.2) **Total tables in the dataset**"
   ]
  },
  {
   "cell_type": "code",
   "execution_count": 2,
   "metadata": {},
   "outputs": [
    {
     "name": "stdout",
     "output_type": "stream",
     "text": [
      "Total tables in the TMDB Movie dataset: 10\n",
      "\n",
      "Table Names:\n",
      "1. Unnamed: 0\n",
      "2. genre_ids\n",
      "3. id\n",
      "4. original_language\n",
      "5. original_title\n",
      "6. popularity\n",
      "7. release_date\n",
      "8. title\n",
      "9. vote_average\n",
      "10. vote_count\n"
     ]
    }
   ],
   "source": [
    "\n",
    "\n",
    "def show_tables_summary(csv_file):\n",
    "    # Read the CSV file into a DataFrame\n",
    "    df = pd.read_csv(csv_file)\n",
    "    \n",
    "    # Extract table names\n",
    "    table_names = df.columns\n",
    "    \n",
    "    # Display total number of tables\n",
    "    total_tables = len(table_names)\n",
    "    print(f\"Total tables in the TMDB Movie dataset: {total_tables}\")\n",
    "    \n",
    "    # Display table names\n",
    "    print(\"\\nTable Names:\")\n",
    "    for i, table_name in enumerate(table_names, 1):\n",
    "        print(f\"{i}. {table_name}\")\n",
    "\n",
    "# Example usage\n",
    "csv_file = \"tmdb.movies.csv\" \n",
    "show_tables_summary(csv_file)\n"
   ]
  },
  {
   "cell_type": "markdown",
   "metadata": {},
   "source": [
    "2.3) **Total Movie Titles in the dataset**"
   ]
  },
  {
   "cell_type": "code",
   "execution_count": 3,
   "metadata": {},
   "outputs": [
    {
     "name": "stdout",
     "output_type": "stream",
     "text": [
      "Total number of movie titles in the dataset: 24835\n"
     ]
    }
   ],
   "source": [
    "\n",
    "\n",
    "def total_movie_titles(csv_file):\n",
    "    # Read the CSV file into a DataFrame\n",
    "    df = pd.read_csv(csv_file)\n",
    "    \n",
    "    # Find the column containing movie titles\n",
    "    title_columns = [col for col in df.columns if 'title' in col.lower()]\n",
    "    \n",
    "    if not title_columns:\n",
    "        raise ValueError(\"No column containing movie titles found.\")\n",
    "    \n",
    "    # Assuming the first title column found contains the movie titles\n",
    "    title_column = title_columns[0]\n",
    "    \n",
    "    # Count unique movie titles in the selected column\n",
    "    total_titles = len(df[title_column].unique())\n",
    "    \n",
    "    return total_titles\n",
    "\n",
    "csv_file = \"tmdb.movies.csv\"  \n",
    "total_titles = total_movie_titles(csv_file)\n",
    "print(f\"Total number of movie titles in the dataset: {total_titles}\")"
   ]
  },
  {
   "cell_type": "markdown",
   "metadata": {},
   "source": [
    "2.4) **Graph of vote average vs vote count**"
   ]
  },
  {
   "cell_type": "code",
   "execution_count": 4,
   "metadata": {},
   "outputs": [
    {
     "data": {
      "image/png": "[encoded data removed]",
      "text/plain": [
       "<Figure size 1000x600 with 1 Axes>"
      ]
     },
     "metadata": {},
     "output_type": "display_data"
    }
   ],
   "source": [
    "import pandas as pd\n",
    "import matplotlib.pyplot as plt\n",
    "\n",
    "# Load the CSV file into a DataFrame\n",
    "df = pd.read_csv(\"tmdb.movies.csv\")\n",
    "\n",
    "# Plot vote_average against vote_count\n",
    "plt.figure(figsize=(10, 6))\n",
    "plt.scatter(df['vote_average'], df['vote_count'], alpha=0.5)\n",
    "plt.title('Vote Average vs. Vote Count')\n",
    "plt.xlabel('Vote Average')\n",
    "plt.ylabel('Vote Count')\n",
    "plt.grid(True)\n",
    "plt.tight_layout()\n",
    "plt.show()\n"
   ]
  },
  {
   "cell_type": "markdown",
   "metadata": {},
   "source": [
    "2.5) **Top 30 movies according to popularity**"
   ]
  },
  {
   "cell_type": "code",
   "execution_count": 5,
   "metadata": {},
   "outputs": [
    {
     "name": "stdout",
     "output_type": "stream",
     "text": [
      "Original Titles with the Highest Popularity:\n",
      "                                    original_title  popularity\n",
      "23811                       Avengers: Infinity War      80.773\n",
      "11019                                    John Wick      78.123\n",
      "23812            Spider-Man: Into the Spider-Verse      60.534\n",
      "11020    The Hobbit: The Battle of the Five Armies      53.783\n",
      "5179                                  The Avengers      50.289\n",
      "11021                      Guardians of the Galaxy      49.606\n",
      "20617                            Blade Runner 2049      48.571\n",
      "23813                            Blade Runner 2049      48.571\n",
      "23814  Fantastic Beasts: The Crimes of Grindelwald      48.508\n",
      "23815                    Ralph Breaks the Internet      48.057\n",
      "20618                       Spider-Man: Homecoming      46.775\n",
      "20619                         John Wick: Chapter 2      45.253\n",
      "20620                                        Logan      45.000\n",
      "23816                         Ant-Man and the Wasp      44.729\n",
      "14169                      Avengers: Age of Ultron      44.383\n",
      "23817                                Black Panther      44.140\n",
      "23818                                        Venom      44.007\n",
      "20621                               Thor: Ragnarok      43.450\n",
      "23819                               Thor: Ragnarok      43.450\n",
      "23820                                    Bumblebee      43.078\n",
      "11022                   X-Men: Days of Future Past      41.867\n",
      "20622               Guardians of the Galaxy Vol. 2      40.228\n",
      "23821                               Mortal Engines      40.095\n",
      "23822                                   Robin Hood      39.975\n",
      "17381                            X-Men: Apocalypse      39.293\n",
      "17382                   Captain America: Civil War      39.137\n",
      "23823                                   Deadpool 2      38.894\n",
      "23824                                      Aquaman      38.102\n",
      "2468                                          Thor      38.068\n",
      "23825                            Bohemian Rhapsody      37.197\n"
     ]
    }
   ],
   "source": [
    "\n",
    "\n",
    "# Load the CSV file into a DataFrame\n",
    "df = pd.read_csv(\"tmdb.movies.csv\")\n",
    "\n",
    "# Sort the DataFrame by 'popularity' column in descending order\n",
    "sorted_df = df.sort_values(by='popularity', ascending=False)\n",
    "\n",
    "# Print original_titles with the highest popularity\n",
    "top_popular_movies = sorted_df[['original_title', 'popularity']].head(30)  # Adjust the number of entries to display as needed\n",
    "print(\"Original Titles with the Highest Popularity:\")\n",
    "print(top_popular_movies)\n"
   ]
  },
  {
   "cell_type": "markdown",
   "metadata": {},
   "source": [
    "## ADVERTISING CORPORATION FOR MOVIES BASED ON MOVIE BUDGET"
   ]
  },
  {
   "cell_type": "markdown",
   "metadata": {},
   "source": [
    "\n",
    "1. **Introduction**\n",
    "  "
   ]
  },
  {
   "cell_type": "markdown",
   "metadata": {},
   "source": [
    "In the fast-paced and ever-evolving landscape of the entertainment industry, effective marketing and advertising strategies play a pivotal role in the success of movies. As the bridge between filmmakers and audiences, Movie Advertising Corporation (MAC) emerges as a dynamic and innovative partner, dedicated to revolutionizing the way movies are promoted and positioned in the market."
   ]
  },
  {
   "cell_type": "markdown",
   "metadata": {},
   "source": [
    "1.1) **Business Concept**"
   ]
  },
  {
   "cell_type": "markdown",
   "metadata": {},
   "source": [
    "At Movie Advertising Corporation, we specialize in crafting tailored advertising solutions that leverage the unique attributes of each film to captivate audiences and drive box office success. The approach is rooted in data-driven insights, creative excellence, and strategic partnerships, ensuring that every marketing campaign is meticulously designed to maximize impact and reach"
   ]
  },
  {
   "cell_type": "markdown",
   "metadata": {},
   "source": [
    "1.2) **Mission Statement**"
   ]
  },
  {
   "cell_type": "markdown",
   "metadata": {},
   "source": [
    "The mission is to revolutionize the advertising landscape for movies by leveraging data-driven strategies and innovative approaches to maximize the impact of every marketing campaign. We are committed to empowering filmmakers and studios to reach their target audiences effectively while delivering unparalleled value and ROI. Through our dedication to creativity, integrity, and excellence, we aim to be the trusted partner of choice for movie advertising, driving success and growth for our clients in an ever-evolving entertainment industry."
   ]
  },
  {
   "cell_type": "markdown",
   "metadata": {},
   "source": [
    "1.3) **Vision**"
   ]
  },
  {
   "cell_type": "markdown",
   "metadata": {},
   "source": [
    "The vision at The Movie Advertising Corporation is to redefine the way movies are marketed and promoted, setting new standards of effectiveness, efficiency, and creativity in the advertising industry. We envision a future where every movie campaign is tailored with precision, leveraging cutting-edge technologies and insights to captivate audiences and drive box office success. By fostering innovation, collaboration, and strategic thinking, we aspire to shape the future of movie advertising, empowering filmmakers to realize their visions and audiences to discover the magic of cinema in exciting new ways"
   ]
  },
  {
   "cell_type": "markdown",
   "metadata": {},
   "source": [
    "1.4) **Key Objectives**"
   ]
  },
  {
   "cell_type": "markdown",
   "metadata": {},
   "source": [
    "Market Research and Analysis: Conduct comprehensive market research to understand audience preferences, industry trends, and competitor strategies, enabling data-driven decision-making in advertising campaigns.\n",
    "\n",
    "Budget Optimization: Develop cost-effective advertising strategies that maximize the impact of the allocated budget, optimizing spending across various advertising channels to achieve the highest ROI for filmmakers and studios.\n",
    "\n",
    "Audience Targeting and Segmentation: Utilize advanced targeting techniques to identify and segment relevant audience groups based on demographics, interests, and behavior, tailoring advertising messages to resonate with specific audience segments effectively.\n",
    "\n",
    "Creative Content Development: Collaborate with creative teams to produce compelling advertising content, including trailers, posters, and digital assets, that effectively communicates the unique selling points and emotional appeal of each movie.\n",
    "\n",
    "Multi-Channel Advertising: Implement integrated advertising campaigns across multiple channels, including digital, social media, television, print, and outdoor, to maximize reach and engagement with diverse audience segments.\n",
    "\n",
    "Performance Monitoring and Optimization: Monitor advertising performance in real-time, leveraging analytics and KPIs to assess campaign effectiveness and make data-driven optimizations to improve outcomes and achieve campaign objectives.\n",
    "\n",
    "Brand Building and Reputation Management: Cultivate strong brand identities for movies through consistent messaging and branding initiatives, building positive perceptions and fostering audience loyalty and advocacy.\n",
    "\n",
    "Strategic Partnerships and Collaborations: Establish strategic partnerships with media agencies, advertising platforms, influencers, and promotional partners to amplify advertising efforts, expand reach, and access new audience segments effectively.\n",
    "\n",
    "Compliance and Regulatory Adherence: Ensure compliance with advertising regulations and industry standards, maintaining transparency, honesty, and ethical practices in all advertising activities to uphold trust and credibility with audiences.\n",
    "\n",
    "Continuous Innovation and Adaptation: Embrace innovation and stay abreast of emerging advertising trends, technologies, and consumer behaviors, adapting advertising strategies and tactics accordingly to remain agile and competitive in the dynamic movie advertising landscape."
   ]
  },
  {
   "cell_type": "markdown",
   "metadata": {},
   "source": [
    "1.5) **Revenue Model**"
   ]
  },
  {
   "cell_type": "markdown",
   "metadata": {},
   "source": [
    "Movie Advertising Corporation generates revenue through a variety of channels, including:\n",
    "\n",
    "Advertising Services: Offering comprehensive advertising solutions, including digital marketing, social media campaigns, traditional media placement, influencer partnerships, and experiential activations.\n",
    "\n",
    "Consulting Services: Providing strategic consulting services to filmmakers and studios, including market analysis, campaign planning, and audience targeting.\n",
    "\n",
    "Partnership Opportunities: Securing partnerships with brands for product placement, promotional tie-ins, and sponsorship deals associated with movie releases.\n",
    "\n",
    "Data Analytics: Offering data analytics and insights services to track campaign performance, measure audience engagement, and optimize advertising strategies for maximum impact."
   ]
  },
  {
   "cell_type": "markdown",
   "metadata": {},
   "source": [
    "## 2) Data Analysis"
   ]
  },
  {
   "cell_type": "markdown",
   "metadata": {},
   "source": [
    "2.2) **Total tables in the dataset**"
   ]
  },
  {
   "cell_type": "code",
   "execution_count": 6,
   "metadata": {},
   "outputs": [
    {
     "name": "stdout",
     "output_type": "stream",
     "text": [
      "Total tables in the TN Movie budget dataset: 6\n",
      "\n",
      "Table Names:\n",
      "1. id\n",
      "2. release_date\n",
      "3. movie\n",
      "4. production_budget\n",
      "5. domestic_gross\n",
      "6. worldwide_gross\n"
     ]
    }
   ],
   "source": [
    "\n",
    "\n",
    "def show_tables_summary(csv_file):\n",
    "    # Read the CSV file into a DataFrame\n",
    "    df = pd.read_csv(csv_file)\n",
    "    \n",
    "    # Extract table names\n",
    "    table_names = df.columns\n",
    "    \n",
    "    # Display total number of tables\n",
    "    total_tables = len(table_names)\n",
    "    print(f\"Total tables in the TN Movie budget dataset: {total_tables}\")\n",
    "    \n",
    "    # Display table names\n",
    "    print(\"\\nTable Names:\")\n",
    "    for i, table_name in enumerate(table_names, 1):\n",
    "        print(f\"{i}. {table_name}\")\n",
    "\n",
    "# Example usage\n",
    "csv_file = \"tn.movie_budgets.csv\" \n",
    "show_tables_summary(csv_file)\n"
   ]
  },
  {
   "cell_type": "markdown",
   "metadata": {},
   "source": [
    "2.3) **Total Movie Titles in the dataset**"
   ]
  },
  {
   "cell_type": "code",
   "execution_count": 7,
   "metadata": {},
   "outputs": [
    {
     "name": "stdout",
     "output_type": "stream",
     "text": [
      "Total number of movie titles in the dataset: 24835\n"
     ]
    }
   ],
   "source": [
    "\n",
    "\n",
    "def total_movie_titles(csv_file):\n",
    "    # Read the CSV file into a DataFrame\n",
    "    df = pd.read_csv(csv_file)\n",
    "    \n",
    "    # Find the column containing movie titles\n",
    "    title_columns = [col for col in df.columns if 'title' in col.lower()]\n",
    "    \n",
    "    if not title_columns:\n",
    "        raise ValueError(\"No column containing movie titles found.\")\n",
    "    \n",
    "    # Assuming the first title column found contains the movie titles\n",
    "    title_column = title_columns[0]\n",
    "    \n",
    "    # Count unique movie titles in the selected column\n",
    "    total_titles = len(df[title_column].unique())\n",
    "    \n",
    "    return total_titles\n",
    "\n",
    "csv_file = \"tmdb.movies.csv\"  \n",
    "total_titles = total_movie_titles(csv_file)\n",
    "print(f\"Total number of movie titles in the dataset: {total_titles}\")"
   ]
  },
  {
   "cell_type": "markdown",
   "metadata": {},
   "source": [
    "2.4) **Movies with the highest production budget**"
   ]
  },
  {
   "cell_type": "code",
   "execution_count": 8,
   "metadata": {},
   "outputs": [
    {
     "name": "stdout",
     "output_type": "stream",
     "text": [
      "Movies with the Top 10 Highest Production Budgets:\n",
      "                                         movie  production_budget\n",
      "0                                       Avatar          425000000\n",
      "1  Pirates of the Caribbean: On Stranger Tides          410600000\n",
      "2                                 Dark Phoenix          350000000\n",
      "3                      Avengers: Age of Ultron          330600000\n",
      "4            Star Wars Ep. VIII: The Last Jedi          317000000\n",
      "5         Star Wars Ep. VII: The Force Awakens          306000000\n",
      "6                       Avengers: Infinity War          300000000\n",
      "7   Pirates of the Caribbean: At Worldâs End          300000000\n",
      "8                               Justice League          300000000\n",
      "9                                      Spectre          300000000\n"
     ]
    }
   ],
   "source": [
    "# Load the CSV file into a DataFrame\n",
    "df = pd.read_csv(\"tn.movie_budgets.csv\")\n",
    "\n",
    "# Convert 'production_budget' column to numeric\n",
    "df['production_budget'] = pd.to_numeric(df['production_budget'].str.replace('$', '').str.replace(',', ''))\n",
    "\n",
    "# Sort the DataFrame by 'production_budget' column in descending order and select top 10\n",
    "top_10_highest_budgets = df.nlargest(10, 'production_budget')\n",
    "\n",
    "# Display movies with the top 10 highest budgets\n",
    "print(\"Movies with the Top 10 Highest Production Budgets:\")\n",
    "print(top_10_highest_budgets[['movie', 'production_budget']])\n"
   ]
  },
  {
   "cell_type": "markdown",
   "metadata": {},
   "source": [
    "2.5) **Top 50 movies according to worldwide gross**"
   ]
  },
  {
   "cell_type": "code",
   "execution_count": 9,
   "metadata": {},
   "outputs": [
    {
     "name": "stdout",
     "output_type": "stream",
     "text": [
      "Top 50 Movies According to Worldwide Gross:\n",
      "                               movie worldwide_gross\n",
      "3737          Fifty Dead Men Walking        $997,921\n",
      "3432                            Duma        $994,790\n",
      "5062                       Insidious     $99,870,886\n",
      "883                          Hellboy     $99,823,958\n",
      "5613                         Mad Max     $99,750,000\n",
      "1078                           Alpha     $99,624,873\n",
      "1682                  Street Fighter     $99,423,000\n",
      "1792                     Nacho Libre     $99,296,462\n",
      "4373                     Desert Blue         $99,147\n",
      "2343                          Hitman     $99,135,571\n",
      "381        Where the Wild Things Are     $99,123,656\n",
      "3247  Justin Bieber: Never Say Never     $99,034,125\n",
      "591                         The Wild     $99,010,667\n",
      "4358                   American Teen        $989,319\n",
      "608                    The Lion King    $986,214,868\n",
      "582                 The Time Machine     $98,983,590\n",
      "3364                       Philomena     $98,963,392\n",
      "1058                      Black Mass     $98,837,872\n",
      "890                         Paycheck     $98,819,789\n",
      "5107                Teefa in Trouble         $98,806\n",
      "3003                 Heaven Can Wait     $98,800,000\n",
      "4049                   Les Visiteurs     $98,754,000\n",
      "1009                       Bowfinger     $98,699,769\n",
      "4255                       The Visit     $98,677,816\n",
      "2184                      Contraband     $98,406,855\n",
      "1893                   Atomic Blonde     $98,345,423\n",
      "588                        Evolution     $98,341,932\n",
      "2775                        Predator     $98,267,558\n",
      "1570                            Rush     $98,230,839\n",
      "405          Jin lÃ­ng shÃ­ san chai     $98,227,017\n"
     ]
    }
   ],
   "source": [
    "df = pd.read_csv(\"tn.movie_budgets.csv\")\n",
    "\n",
    "# Sort the DataFrame by 'worldwide_gross' column in descending order and select top 30\n",
    "top_30_movies = df.sort_values(by='worldwide_gross', ascending=False).head(30)\n",
    "\n",
    "# Display top 30 movies according to worldwide gross\n",
    "print(\"Top 50 Movies According to Worldwide Gross:\")\n",
    "print(top_30_movies[['movie', 'worldwide_gross']])"
   ]
  }
 ],
 "metadata": {
  "kernelspec": {
   "display_name": "Python 3 (ipykernel)",
   "language": "python",
   "name": "python3"
  },
  "language_info": {
   "codemirror_mode": {
    "name": "ipython",
    "version": 3
   },
   "file_extension": ".py",
   "mimetype": "text/x-python",
   "name": "python",
   "nbconvert_exporter": "python",
   "pygments_lexer": "ipython3",
   "version": "3.11.5"
  }
 },
 "nbformat": 4,
 "nbformat_minor": 2
}
